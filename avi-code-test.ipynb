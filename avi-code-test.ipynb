{
 "cells": [
  {
   "cell_type": "code",
   "execution_count": 1,
   "metadata": {
    "pycharm": {
     "name": "#%%\n"
    }
   },
   "outputs": [
    {
     "name": "stdout",
     "output_type": "stream",
     "text": [
      "pygame 2.1.0 (SDL 2.0.16, Python 3.8.10)\n",
      "Hello from the pygame community. https://www.pygame.org/contribute.html\n"
     ]
    }
   ],
   "source": [
    "\n",
    "# ##########################################################     Imports     ######################################\n",
    "from __future__ import division\n",
    "from EyeLinkCoreGraphicsPsychoPy import EyeLinkCoreGraphicsPsychoPy\n",
    "import psychopy, pylink\n",
    "import os, platform, sys, time, random, copy, csv\n",
    "from psychopy import visual, core, event, monitors, gui, hardware, data\n",
    "from PIL import Image  # for preparing the Host backdrop image\n",
    "from string import ascii_letters, digits\n",
    "from psychopy.hardware import keyboard\n",
    "from random import randint\n",
    "from decimal import *\n",
    "from numpy import *\n"
   ]
  },
  {
   "cell_type": "code",
   "execution_count": 2,
   "metadata": {
    "pycharm": {
     "name": "#%%\n"
    }
   },
   "outputs": [],
   "source": [
    "#######################################################################     Experiment  Instruction Texts                     #######################################################################\n",
    "\n",
    "welcome_text = '''\n",
    "Hello! Thank you for participating in our experiment!\n",
    "\n",
    "In this experiment, your task is to read a text and answer some questions about its contents in a memory test later on in Qualtrics.\n",
    "As you read, we will record your eye movements with the eye tracker you see just in front of you.\n",
    "\n",
    "The researcher will now set you up for experiment. Please let them know if you have any questions and/or concerns.\n",
    "\n",
    "Press \"Space bar\" to continue.\n",
    "'''\n"
   ]
  },
  {
   "cell_type": "code",
   "execution_count": 3,
   "metadata": {
    "pycharm": {
     "name": "#%%\n"
    }
   },
   "outputs": [
    {
     "name": "stdout",
     "output_type": "stream",
     "text": [
      "SC TropoPages.csv\n"
     ]
    }
   ],
   "source": [
    "######################################################################       Condition Assignment                             ##############################################\n",
    "\n",
    "# Use the machine time as a seed to generate a random number from (allows for closer to \"truly random\" numbers)\n",
    "random.seed(int(time.process_time()))\n",
    "# set variable myRand to a random number (either 1 or 2); myRandP (EITHER 3 OR 4)\n",
    "rand = random.randint(1, 2)  # random number for choosing experimental condition order\n",
    "randP = random.randint(3, 4)  # random number for choosing reading pages order\n",
    "\n",
    "# set new variable 'currCondition' depending on what random number we generated\n",
    "if rand == 1:\n",
    "    # 50% chance of being in the PC condition\n",
    "    currCondition = \"PC\"\n",
    "elif rand == 2:\n",
    "    # 50% chance of being in the SC condition\n",
    "    currCondition = \"SC\"\n",
    "\n",
    "# CREATE A VARIABLE CALLED currConditionP and set it depending on randP\n",
    "if randP == 3:\n",
    "    # 50% chance of being Tropo pages\n",
    "    currConditionP = \"Tropo\"\n",
    "elif randP == 4:\n",
    "    # 50% chance of being Life pages\n",
    "    currConditionP = \"Life\"\n",
    "\n",
    "\n",
    "    # For testing purposes we can set our condition and pages here.\n",
    "    # Just comment out the two lines below to run the experiment randomly.\n",
    "currCondition = \"SC\"\n",
    "currConditionP = \"Tropo\"\n",
    "\n",
    "###################################################################### File Assignment #####################################################\n",
    "# 2. setFiles\n",
    "# SETTING ALL OUR FILE VARIABLES FOR THE EXPERIMENT BASED ON currCondition AND currConditionPs\n",
    "if currCondition == \"PC\":\n",
    "    # if we're in the PC condition then show the PC instructions first run and the SC instructions second run\n",
    "    # InstrFile = \"InstrFile/Instr_PC.csv\"\n",
    "    InstrFile = ['PC_s1.png', 'PC_s2.png', 'PC_s3.png', 'PC_s4.png',\n",
    "                 'PC_s5.png']\n",
    "    # InstrFile2 = \"InstrFile/Instr_SC_v2.csv\"\n",
    "    InstrFile2 = ['SC_s4.png', 'SC_s5.png']\n",
    "    # if we're in the PC condition then show the PC probe message first run and the SC probe message second run\n",
    "    probeMessage = \"Remember, when the probe appears on screen: \\n Press 'i' if your MW was intentional (on purpose), \" \\\n",
    "                   \"or 'u' if it was unintentional (just happened on its own). \\n Press '0' if you were not \" \\\n",
    "                   \"experiencing MW when the probe appeared. \"\n",
    "    probeMessage2 = \"Remember: Press '1' any time you catch yourself mind wandering (MW). \\n When prompted, press 'i' \" \\\n",
    "                    \"if your MW was intentional (on purpose), or 'u' if it was unintentional (just happened on its \" \\\n",
    "                    \"own). \"\n",
    "elif currCondition == \"SC\":\n",
    "    # if we're in the SC condition then show the SC instructions first run and the PC instructions second run\n",
    "    # InstrFile = \"InstrFile/Instr_SC.csv\"\n",
    "    InstrFile = ['SC_s1.png', 'SC_s2.png', 'SC_s3.png', 'SC_s4.png',\n",
    "                 'SC_s5.png']\n",
    "    # InstrFile2 = \"InstrFile/Instr_PC_v2.csv\"\n",
    "    InstrFile2 = ['PC_s4.png', 'PC_s5.png']\n",
    "    # if we're in the SC condition then show the SC probe message first run and the PC probe message second run\n",
    "    probeMessage = 'Remember: Press \\'1\\' any time you catch yourself mind wandering (MW). \\n When prompted, ' \\\n",
    "                   'press \\'i\\' ' \\\n",
    "                   'if your MW was intentional (on purpose), or \\'u\\' if it was unintentional (just happened on its ' \\\n",
    "                   'own). '\n",
    "    probeMessage2 = \"Remember, when the probe appears on screen: \\n Press 'i' if your MW was intentional (on \" \\\n",
    "                    \"purpose), or 'u' if it was unintentional (just happened on its own). \\n Press '0' if you were \" \\\n",
    "                    \"not experiencing MW when the probe appeared. \"\n",
    "\n",
    "if currConditionP == \"Life\":\n",
    "    # if we're in the Life condition then show LifePages first run and TropoPages second run\n",
    "    stimFile = \"LifePages.csv\"\n",
    "    stimFile2 = \"TropoPages.csv\"\n",
    "    # if we're in the Life condition then show Life quiz questions first run and Tropo quiz questions second run\n",
    "    quizFile = \"lifeQs.csv\"\n",
    "    quizFile2 = \"tropoQs.csv\"\n",
    "\n",
    "elif currConditionP == \"Tropo\":\n",
    "    # if we're in the Tropo condition then show TropoPages first run and LifePages second run\n",
    "    stimFile = \"TropoPages.csv\"\n",
    "    stimFile2 = \"LifePages.csv\"\n",
    "    # if we're in the Tropo condition then show Tropo quiz questions first run and Life quiz questions second run\n",
    "    quizFile = \"tropoQs.csv\"\n",
    "    quizFile2 = \"lifeQs.csv\"\n",
    "\n",
    "print(currCondition, stimFile)"
   ]
  },
  {
   "cell_type": "code",
   "execution_count": 4,
   "metadata": {
    "pycharm": {
     "name": "#%%\n"
    }
   },
   "outputs": [],
   "source": [
    "################## Create Data directory ##########################\n",
    "\n",
    "# store some useful info about this experiment\n",
    "info = {'participant': '', 'gender': ['m', 'f', 'n/a'], 'consent given': False, 'dateStr': data.getDateStr()}\n",
    "# present dialog to participant\n",
    "dlg = gui.DlgFromDict(info, fixed=['dateStr'])\n",
    "if dlg.OK == False or not info['consent given']:\n",
    "    core.quit()\n",
    "\n",
    "filename = \"data/%s_%s\" % (info['participant'], info['dateStr'])\n",
    "\n",
    "# create our experiment object to save data\n",
    "thisExp = data.ExperimentHandler(name='MW_Eyelink', version='1.0',  # not needed, just handy\n",
    "                                 extraInfo=info,  # the info we created earlier\n",
    "                                 dataFileName=filename)  # using our string with data/name_date)\n"
   ]
  },
  {
   "cell_type": "code",
   "execution_count": 5,
   "metadata": {
    "pycharm": {
     "name": "#%%\n"
    }
   },
   "outputs": [],
   "source": [
    "####################### INITIALIZE Components ########################################.\n",
    "# Window\n",
    "win = visual.Window([1920, 1080], fullscr=False, units='pix')\n",
    "# Keyboard\n",
    "kb = keyboard.Keyboard()"
   ]
  },
  {
   "cell_type": "code",
   "execution_count": null,
   "metadata": {
    "pycharm": {
     "name": "#%%\n"
    }
   },
   "outputs": [],
   "source": [
    "\n",
    "\n",
    "instructions = psychopy.data.TrialHandler(nReps=1, method='sequential', trialList=InstrFile)\n",
    "mw_stim = psychopy.visual.ImageStim(win, image='InstrSlides/PC_s2.png')\n",
    "\n",
    "# Keyboard Handler\n",
    "\n",
    "\n",
    "thisExp.addLoop(instructions)\n",
    "for thisTrial in instructions:\n",
    "    mw_stim.draw()\n",
    "    win.flip()\n",
    "    break\n",
    "    core.quit()\n",
    "    # if kb.waitKeys(keyList='return'):\n",
    "    #     instructions.next()\n",
    "\n",
    "# core.quit()"
   ]
  }
 ],
 "metadata": {
  "kernelspec": {
   "display_name": "Python 3 (ipykernel)",
   "language": "python",
   "name": "python3"
  },
  "language_info": {
   "codemirror_mode": {
    "name": "ipython",
    "version": 3
   },
   "file_extension": ".py",
   "mimetype": "text/x-python",
   "name": "python",
   "nbconvert_exporter": "python",
   "pygments_lexer": "ipython3",
   "version": "3.8.10"
  }
 },
 "nbformat": 4,
 "nbformat_minor": 1
}